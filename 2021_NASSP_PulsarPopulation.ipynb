{
  "nbformat": 4,
  "nbformat_minor": 0,
  "metadata": {
    "kernelspec": {
      "display_name": "Python 3",
      "language": "python",
      "name": "python3"
    },
    "language_info": {
      "codemirror_mode": {
        "name": "ipython",
        "version": 3
      },
      "file_extension": ".py",
      "mimetype": "text/x-python",
      "name": "python",
      "nbconvert_exporter": "python",
      "pygments_lexer": "ipython3",
      "version": "3.7.3"
    },
    "colab": {
      "name": "2021-NASSP-PulsarPopulation.ipynb",
      "provenance": [],
      "collapsed_sections": [
        "hCStvqWfzH34",
        "eTam2ySxzH35",
        "Jo-AQ0pDzH37",
        "6Ct54W4YzH37",
        "F2LKJ4aczH38",
        "qJXD3YlIzH38",
        "f2CvK5ngzH38",
        "0Z-6uVahzH38",
        "zvT_0vzozH39",
        "-ybTmm_MzH3_",
        "_k_yfLb6zH3_",
        "XoMtK71CzH3_"
      ],
      "include_colab_link": true
    }
  },
  "cells": [
    {
      "cell_type": "markdown",
      "metadata": {
        "id": "view-in-github",
        "colab_type": "text"
      },
      "source": [
        "<a href=\"https://colab.research.google.com/github/marisageyer/NASSP_2021/blob/master/2021_NASSP_PulsarPopulation.ipynb\" target=\"_parent\"><img src=\"https://colab.research.google.com/assets/colab-badge.svg\" alt=\"Open In Colab\"/></a>"
      ]
    },
    {
      "cell_type": "markdown",
      "metadata": {
        "id": "f-JN10QKzH3i"
      },
      "source": [
        "# A Pulsar Population Tutorial\n",
        "\n",
        "##### by: Marisa Geyer and Sarah Buchner"
      ]
    },
    {
      "cell_type": "markdown",
      "metadata": {
        "id": "QadqPEGUzH3k"
      },
      "source": [
        "### The ATNF pulsar catalogue\n",
        "In this tutorial we will investigate the pulsar population using an online maintained pulsar catalgoue, the ATNF (Australia Telescope National Facility) Pulsar Catalogue.\n",
        "\n",
        "\n",
        "http://www.atnf.csiro.au/people/pulsar/psrcat/\n",
        "\n",
        "The ATNF pulsar catalogue contains details of all published pulsars. \n",
        "\n",
        "### Other python tools\n",
        "You will also learn how to use *pandas* and *pandas* dataframes.   \n",
        "*pandas* is a python data analysis tool, which shares many qualities of dictionaries in python (if perhaps you are more familiar with that). \n",
        "\n",
        "\n",
        "If you enjoy using it, there are many more tutorials online to help you learn more (https://pandas.pydata.org/docs/getting_started/intro_tutorials/index.html).\n",
        "\n",
        "`pandas` is an incredibly popular data analysis tool in python. You will be able to find the answers to most of your questions about how to do things in pandas on Google and especially Stackoverflow. \n",
        "\n",
        "In this tutorial we will import pandas, using\n",
        "\n",
        "`import pandas as pd`\n",
        "\n",
        " -- so all *pd* functions are functions from *pandas*\n",
        "\n",
        " We will also use \n",
        "\n",
        "`astropy.coordinates` and `astropy.units`\n",
        "to help us plot Galactic distributions. \n",
        "\n",
        "As well as `seaborn` for plotting styles.\n"
      ]
    },
    {
      "cell_type": "markdown",
      "metadata": {
        "id": "xdOYRv6gk6kw"
      },
      "source": [
        "## Set up the python environment\n",
        "Since you are running the tutorial in Google Colaboratory - all the presets are already available. \n",
        "\n",
        "You don't have to worry about installing any software!"
      ]
    },
    {
      "cell_type": "code",
      "metadata": {
        "id": "NijTA4gCk5kO"
      },
      "source": [
        "import os\n",
        "import math\n",
        "import numpy as np\n",
        "\n",
        "import matplotlib\n",
        "import matplotlib.pyplot as plt\n",
        "%matplotlib inline\n",
        "\n",
        "import seaborn as sns\n",
        "sns.set_style('ticks')\n",
        "sns.set_context('talk')\n",
        "\n",
        "import pandas as pd\n",
        "pd.set_option('use_inf_as_na', True)\n",
        "\n",
        "from astropy.coordinates import SkyCoord\n",
        "import astropy.units as u"
      ],
      "execution_count": null,
      "outputs": []
    },
    {
      "cell_type": "markdown",
      "metadata": {
        "id": "NJVZOTikzH3l"
      },
      "source": [
        "## Download the pulsar catalogue (as a csv)\n",
        "\n",
        "A csv file containing an up-to-date copy of the ATNF online catalogue has been provided to you as \"2021_psrcatalogue.csv\". \n",
        "\n",
        "For your interest the file was created by first installing psrcat using the instructions provided here:\n",
        "https://www.atnf.csiro.au/people/pulsar/psrcat/download.html\n",
        "\n",
        "And thereafter running *psrcat* in the terminal as\n",
        "\n",
        "$$ psrcat -nonumber -o short_csv -c 'JNAME RAJD DECJD P0 P1 DM W50 S1400 SPINDX' -l \"(S1400>0)&&(W50>0)\" > 2021_psrcatalogue.csv $$\n"
      ]
    },
    {
      "cell_type": "markdown",
      "metadata": {
        "id": "pHFZTZUiltaa"
      },
      "source": [
        "You can downnload the csv file to your Google Colaboratory enivronment,  using wget by running the next cell."
      ]
    },
    {
      "cell_type": "code",
      "metadata": {
        "id": "vVZijVSRzwuw"
      },
      "source": [
        "!wget ftp://elwood.ru.ac.za/pub/geyer/NASSP2021/2021_psrcatalogue.csv -P /content"
      ],
      "execution_count": null,
      "outputs": []
    },
    {
      "cell_type": "markdown",
      "metadata": {
        "id": "7PncLm21nGSm"
      },
      "source": [
        "You can see the file is in the Google Colab file structure (ready for use), by running `!ls`"
      ]
    },
    {
      "cell_type": "code",
      "metadata": {
        "id": "ifDCRKTXoEOg"
      },
      "source": [
        "!ls"
      ],
      "execution_count": null,
      "outputs": []
    },
    {
      "cell_type": "markdown",
      "metadata": {
        "id": "Jz1UxBm5o52_"
      },
      "source": [
        "## Read in the catalogue file using `pandas`"
      ]
    },
    {
      "cell_type": "code",
      "metadata": {
        "id": "_QjsMQE1zH3o"
      },
      "source": [
        "#filename of csv file\n",
        "psrcatfile='2021_psrcatalogue.csv'"
      ],
      "execution_count": null,
      "outputs": []
    },
    {
      "cell_type": "code",
      "metadata": {
        "id": "kA2rKpTCzH3p"
      },
      "source": [
        "# Pandas is a convenient python library for displaying tables and data arrays\n",
        "# Import the csv file as a pandas dataframe (df)\n",
        "df = pd.read_csv(psrcatfile, delimiter=';')"
      ],
      "execution_count": null,
      "outputs": []
    },
    {
      "cell_type": "code",
      "metadata": {
        "id": "HByzKyRfzH3q"
      },
      "source": [
        "# One of the nice things about pandas is its conscice display of tables/data.\n",
        "# The function head will print the first 5 rows of the dataframe\n",
        "\n",
        "df.head()"
      ],
      "execution_count": null,
      "outputs": []
    },
    {
      "cell_type": "markdown",
      "metadata": {
        "id": "2lTJdjdpzH3s"
      },
      "source": [
        "#### The table columns have the following units and meanings\n",
        "\n",
        "You can come back to this table at any time to double check the units of the data you are working with\n",
        "\n",
        "| Parameter | Description  |\n",
        "| :- | :- |\n",
        "| PSRJ | Pulsar J-name (epoch J2000) |\n",
        "| RAJD | Right ascencion (degrees)   |\n",
        "| DECJD | Declination (degrees)    |\n",
        "| P0 | Pulsar period (sec)   |\n",
        "| P1 | Period derivative (sec/sec = unitless)   |\n",
        "| DM | Dispersion measure (cm^{-3} pc)   |\n",
        "| W50 | Width of pulse at 50% of its peak height (ms)   |\n",
        "| S1400 | Flux density at 1400MHz (mJy)   |\n",
        "| SPINDX | Flux spectral index   |\n",
        "| PB | Binary orbital period (days) - for pulsars in a binary |\n"
      ]
    },
    {
      "cell_type": "code",
      "metadata": {
        "id": "2CB4qVi1zH3t"
      },
      "source": [
        "## You can view the full array by printing df \n",
        "df\n",
        "## if you want to see every row printed (instead of the ... that pandas use here), you can run:\n",
        "## pd.set_option('display.max_rows', None)\n",
        "## and then display the dataframe again:\n",
        "## df"
      ],
      "execution_count": null,
      "outputs": []
    },
    {
      "cell_type": "markdown",
      "metadata": {
        "id": "T8loQAoW4yQv"
      },
      "source": [
        "The way to select the values of a particular column in a pandas dataframe is done using the column names, as follows"
      ]
    },
    {
      "cell_type": "code",
      "metadata": {
        "id": "hn_z50Ia4xgr"
      },
      "source": [
        "df.columns ## this will list the column names in your dataframe"
      ],
      "execution_count": null,
      "outputs": []
    },
    {
      "cell_type": "code",
      "metadata": {
        "id": "Ty5NcJrB5A1Q"
      },
      "source": [
        "df.PSRJ ## this will return the entries of column \"PSRJ\" in other word all the pulsar names, as a dataframe"
      ],
      "execution_count": null,
      "outputs": []
    },
    {
      "cell_type": "code",
      "metadata": {
        "id": "1HjPTF1Y5A4P"
      },
      "source": [
        "df['PSRJ'] ## Is identical to the above. Can you see how similar in its operations pandas is to dictionaries in python?"
      ],
      "execution_count": null,
      "outputs": []
    },
    {
      "cell_type": "code",
      "metadata": {
        "id": "xg1cBvMq5A7I"
      },
      "source": [
        "## If you want to return the column values as a numpy array explicitly you can use values:\n",
        "df.DM.values ## Provides a numpy array containing all the DM values in the dataframe"
      ],
      "execution_count": null,
      "outputs": []
    },
    {
      "cell_type": "markdown",
      "metadata": {
        "id": "tMIpLmMwzH3v"
      },
      "source": [
        "## Pulsar population basics"
      ]
    },
    {
      "cell_type": "markdown",
      "metadata": {
        "id": "AVVP3OfVBHMK"
      },
      "source": [
        "### How many pulsars are in the catalgue?"
      ]
    },
    {
      "cell_type": "code",
      "metadata": {
        "id": "fW_7QIcdzH3w"
      },
      "source": [
        "### How many pulsars are in the pulsar catalogue?\n",
        "df ## see if you can find a function in pandas that provides the nr of rows or the size of a dataframe.\n"
      ],
      "execution_count": null,
      "outputs": []
    },
    {
      "cell_type": "markdown",
      "metadata": {
        "id": "D2P04MBbBQt7"
      },
      "source": [
        "### How are they distributed in our Galaxy?"
      ]
    },
    {
      "cell_type": "code",
      "metadata": {
        "id": "ZXfGv4Qt3Z7a"
      },
      "source": [
        "### What are their distributions in our Galaxy\n",
        "eq = SkyCoord(df.RAJD, df.DECJD, unit=u.deg)\n",
        "gal = eq.galactic ## This takes the coordinates of eq RA and DEC and turns them into galactic latitude and longitude"
      ],
      "execution_count": null,
      "outputs": []
    },
    {
      "cell_type": "code",
      "metadata": {
        "id": "NIexgyGb3d-D"
      },
      "source": [
        "gal"
      ],
      "execution_count": null,
      "outputs": []
    },
    {
      "cell_type": "code",
      "metadata": {
        "id": "4OCzeqzzzH3w"
      },
      "source": [
        "## Plot the distribution using an Aitoff projection \n",
        "\n",
        "plt.figure(figsize=(10,10))\n",
        "plt.subplot(111, projection='aitoff')\n",
        "plt.scatter(gal.l.wrap_at('180d').radian, gal.b.radian,alpha=0.3,marker=r'$\\bowtie$',s=300, color='r')\n",
        "plt.grid(True)\n",
        "title = plt.title(\"Pulsar distribution\")"
      ],
      "execution_count": null,
      "outputs": []
    },
    {
      "cell_type": "markdown",
      "metadata": {
        "id": "HGiF2v5zzH3x"
      },
      "source": [
        "From this distribution plot you can see that pulsars follow lie are especially clustered around the Galactic plane - similar to what we see for massive O and B stars which are their precursors. \n",
        "\n",
        "However many of them will have received large kick velocities during their formation in Supernova explosions. Over time this leads to the distribution of out of plane pulsars that we observe. "
      ]
    },
    {
      "cell_type": "code",
      "metadata": {
        "id": "kcyWx3ysxip6"
      },
      "source": [
        "## Can you make a histogram of the Galactic latitude to better show that pulsars mostly lie close to the Galactic plane?\n",
        "hist = plt.hist(###, bins=60)"
      ],
      "execution_count": null,
      "outputs": []
    },
    {
      "cell_type": "markdown",
      "metadata": {
        "id": "-vvSvQoO5qgH"
      },
      "source": [
        "### Millisecond pulsars vs Normal pulsars\n",
        "The standard distinction between normal pulsars and millisecond pulsars (MSPs) is to split them using their pulse periods.\n",
        "\n",
        "We tend to think of pulsars spinning faster then 30 ms as MPs.  \n",
        "And pulsars spinning slower than that as normal or canonical pulsars. "
      ]
    },
    {
      "cell_type": "code",
      "metadata": {
        "id": "UQZ3fYFt72m1"
      },
      "source": [
        "## Similarly to in numpy where you can create x, and then find the values within x based on a condition, e.g.\n",
        "x = np.linspace(1,20,40)\n",
        "print(x)\n",
        "print(\"Find the values in x smaller than 7:\")\n",
        "less_than_7 = x[x<7]\n",
        "print(less_than_7)"
      ],
      "execution_count": null,
      "outputs": []
    },
    {
      "cell_type": "code",
      "metadata": {
        "id": "FVPSJnud8tNb"
      },
      "source": [
        "## you can also filter pandas dataframe values based on a condition.\n",
        "## For e.g. \n",
        "\n",
        "df[df.DM > 1200.0]\n",
        "\n",
        "## returns a dataframe with only DM values larger than 1200"
      ],
      "execution_count": null,
      "outputs": []
    },
    {
      "cell_type": "code",
      "metadata": {
        "id": "F5UewuQBzH3y"
      },
      "source": [
        "## Now, let's separate the MSPs and the normal pulsars based on a pulse period of 30ms.\n",
        "## Remember to check the units of P0 before you set up your filter.\n",
        "\n",
        "msps=df[df.P0 ### ]## add condition for the msps here\n",
        "normalps=df[### ]## add condition for the normal pulsars here]"
      ],
      "execution_count": null,
      "outputs": []
    },
    {
      "cell_type": "code",
      "metadata": {
        "id": "FWt6VS1wA6qp"
      },
      "source": [
        "## How many normal pulsars are there\n",
        "## And how many MSPs?"
      ],
      "execution_count": null,
      "outputs": []
    },
    {
      "cell_type": "code",
      "metadata": {
        "id": "qrZAOWHs9Uju"
      },
      "source": [
        "## We can also find the binaries in the system by checking which of the systems have PB (orbital or binary period) entries. \n",
        "## Only pulsar that have a binary companion will have an orbital period (PB, in days), the rest have PB = NaN (not a number, or null)\n",
        "## We can therefore find the binaries based on where PB is NOT NULL\n",
        "\n",
        "df.PB.notnull()"
      ],
      "execution_count": null,
      "outputs": []
    },
    {
      "cell_type": "code",
      "metadata": {
        "id": "kgakN9lO-G1L"
      },
      "source": [
        "## And not we can use this boolean array from above to filter out the binaries\n",
        "\n",
        "binaries = df[df.PB.notnull()] ## this will only return entries in df for which the boolean array is True"
      ],
      "execution_count": null,
      "outputs": []
    },
    {
      "cell_type": "code",
      "metadata": {
        "id": "eX1NqB57-nCI"
      },
      "source": [
        "# The MSP, normal pulsar and binary subsets that you have defined above are all still dataframes.\n",
        "# So as before you can get a feeling for what they look like using .head() which prints the first 5 entries. \n",
        "normalps.head()"
      ],
      "execution_count": null,
      "outputs": []
    },
    {
      "cell_type": "code",
      "metadata": {
        "id": "GhB9Z08R-9Qq"
      },
      "source": [
        "msps.head()"
      ],
      "execution_count": null,
      "outputs": []
    },
    {
      "cell_type": "code",
      "metadata": {
        "id": "j90_znbf-9ZB"
      },
      "source": [
        "binaries.head()"
      ],
      "execution_count": null,
      "outputs": []
    },
    {
      "cell_type": "markdown",
      "metadata": {
        "id": "IrMVL4i3_Vo9"
      },
      "source": [
        "### Can you figure out what % of MSPs are in binaries?\n",
        "\n",
        "You can start by making a list of the pulsar names that are\n",
        "\n",
        "1.   MSPs\n",
        "2.   Normal pulsars\n",
        "3.   Binaries\n",
        "\n",
        "And then write a function or a for loop to figure out which of the pulsars in the MSPs list are also in the binary list; and which are not. \n",
        "\n",
        "Have a go at it!\n",
        "\n"
      ]
    },
    {
      "cell_type": "code",
      "metadata": {
        "id": "cn56vWdE_K9V"
      },
      "source": [
        "## start by creating lists of names as unique identifiers:\n",
        "names_binary_pulsars = binaries.PSRJ.values ## using \".values\" you have now written these out as a standard numpy array\n",
        "names_of_msps = msps.PSRJ.values\n",
        "names_of_normalps = normalps.PSRJ.values"
      ],
      "execution_count": null,
      "outputs": []
    },
    {
      "cell_type": "code",
      "metadata": {
        "id": "bnk1SmDeBj7D"
      },
      "source": [
        "### << your code here>>"
      ],
      "execution_count": null,
      "outputs": []
    },
    {
      "cell_type": "code",
      "metadata": {
        "id": "9LzcRhfAzH3z"
      },
      "source": [
        "## What did you find? What percentage of MSPs are in binaries?"
      ],
      "execution_count": null,
      "outputs": []
    },
    {
      "cell_type": "markdown",
      "metadata": {
        "id": "9DZIa3Y6zH3z"
      },
      "source": [
        "## Creating P-Pdot diagramme"
      ]
    },
    {
      "cell_type": "code",
      "metadata": {
        "id": "Gv2Pe9DDCC7r"
      },
      "source": [
        "## Now that you have a dataframe for\n",
        "1) The normal pulsars\n",
        "2) The MSPs\n",
        "3) The binaries\n",
        "\n",
        "#Let's plot a P-Pdot diagramme (in other words pulse period (P0) agains period derivative (P1) with labels for the populations."
      ],
      "execution_count": null,
      "outputs": []
    },
    {
      "cell_type": "code",
      "metadata": {
        "id": "_o3S0ymczH3z"
      },
      "source": [
        "#Set up a log-log plot for P vs Pdot\n",
        "figure=plt.figure(figsize=(12,8))\n",
        "\n",
        "plt.plot(##add normal pulsar data, 'o', markersize=8, label='NORMAL PULSARS',alpha=0.5)\n",
        "plt.plot(##add msp data, 'o', markersize=8, label='MSPs',alpha=0.5)\n",
        "plt.plot(##add binary, '*', markersize=8, label=\"BINARIES\")\n",
        "\n",
        "plt.ylabel(\"Pdot\")\n",
        "plt.xlabel(\"Period (s)\")\n",
        "\n",
        "plt.xscale('log')\n",
        "plt.yscale('log')\n",
        "plt.legend()"
      ],
      "execution_count": null,
      "outputs": []
    },
    {
      "cell_type": "markdown",
      "metadata": {
        "id": "o5bR_QZDzH30"
      },
      "source": [
        "To find typical P and Pdot values for the MSPs and normal pulsars. \n",
        "we will add histograms using a subplot-grid.  \n",
        "\n",
        "The plotting grid is 3x3, with indices:\n",
        "\n",
        "$\\begin{bmatrix}(0,0) & (0,1) & (0,2) \\\\\n",
        "(1,0) & (1,1) & (1,2)\\\\ (2,0) & (2,1) & (2,2)\\end{bmatrix}$\n"
      ]
    },
    {
      "cell_type": "code",
      "metadata": {
        "id": "cyXhuPZHzH30"
      },
      "source": [
        "figure = plt.figure(figsize=(10,12))\n",
        "ax0 = plt.subplot2grid((3, 3), (1, 0), colspan=2, rowspan=2)\n",
        "ax1 = plt.subplot2grid((3, 3), (0, 0), colspan=2, sharex=ax0)\n",
        "ax2 = plt.subplot2grid((3, 3), (1, 2), rowspan=2, sharey=ax0)\n",
        "\n",
        "ax0.plot(##add normal pulsar data, 'o', markersize=8, label='NORMAL PULSARS',alpha=0.3)\n",
        "ax0.plot((##add msp data, 'o', markersize=8, label='MSPs',alpha=0.5)\n",
        "ax0.legend()\n",
        "ax0.set_ylabel(\"Pdot\")\n",
        "ax0.set_xlabel(\"Period (s)\")\n",
        "\n",
        "ax0.set_xscale('log')\n",
        "ax0.set_yscale('log')\n",
        "\n",
        "## set y ticks\n",
        "y_major = matplotlib.ticker.LogLocator(base = 10.0,numticks = 20)\n",
        "ax0.yaxis.set_major_locator(y_major)\n",
        "y_minor= matplotlib.ticker.LogLocator(base = 10.0, subs='all',numticks = 20)\n",
        "ax0.yaxis.set_minor_locator(y_minor)\n",
        "\n",
        "ax1.hist(df.P0, bins=np.logspace(-3, 1, 30), alpha=0.5)\n",
        "ax2.hist(df.P1, bins=np.logspace(-21, -12, 30),alpha=0.5, orientation='horizontal')\n",
        "#ax2.hist(y, orientation='horizontal')\n",
        "\n",
        "plt.tight_layout()\n",
        "\n",
        "ax0.grid()\n",
        "ax1.grid()\n",
        "ax2.grid()"
      ],
      "execution_count": null,
      "outputs": []
    },
    {
      "cell_type": "markdown",
      "metadata": {
        "id": "K_NuUHgLzH32"
      },
      "source": [
        "## The derived characteristic ages "
      ]
    },
    {
      "cell_type": "markdown",
      "metadata": {
        "id": "B_rziOsszH33"
      },
      "source": [
        "The characteristic age ($\\tau$) of a pulsar is defined by\n",
        "$$ \\tau \\equiv { P \\over 2 \\dot{P}}\\rlap{\\quad} \\tag{1}$$"
      ]
    },
    {
      "cell_type": "markdown",
      "metadata": {
        "id": "hCStvqWfzH34"
      },
      "source": [
        "### Characteristic age of typical normal pulsar"
      ]
    },
    {
      "cell_type": "code",
      "metadata": {
        "id": "27jOyaPdzH34"
      },
      "source": [
        "## Using the histograms in your above plot, let's compute the typical characteristic age of the normal pulsar population.\n",
        "## We start by obtaining typical P and P-dot values for normal pulsars from the histograms. \n",
        "## This is just an order of magnitude estimation, so you can just read off typical values from the figure\n",
        "\n",
        "typical_P_normalps = ## add typical pulse period of normal pulsar\n",
        "typical_Pdot_normalps = ## add typical pulse period derivative of normal pulsar\n",
        "\n",
        "## Using eq.1, now compute a typical characteristic age (tau)\n",
        "typical_tau_sec = \n",
        "\n",
        "\n",
        "print(\"Typical ages of a normal (mostly isolated) pulsar:\")\n",
        "print(typical_tau_sec, 'sec')\n",
        "\n",
        "## note this calculation has been made in SECONDS. Can you convert the age to year and Myr?\n",
        "age_in_yrs = ## Convert to years\n",
        "print(age_in_yrs, 'yrs')\n",
        "age_in_Myrs = ## Convert to Megayears\n",
        "print(age_in_Myrs, 'Myrs')"
      ],
      "execution_count": null,
      "outputs": []
    },
    {
      "cell_type": "markdown",
      "metadata": {
        "id": "eTam2ySxzH35"
      },
      "source": [
        "### Age of typical MSP"
      ]
    },
    {
      "cell_type": "code",
      "metadata": {
        "id": "Z6dvTmxGzH35"
      },
      "source": [
        "## Using the histograms now also compute the typical characteristic age of the MSP population.\n",
        "## You can again read off P and P-dot valies from the figure\n",
        "\n",
        "typical_P_msps = ## add typical pulse period of a MSP\n",
        "typical_Pdot_msps = ## add typical pulse period derivative of a MSP\n",
        "## Using eq.1, now compute a typical characteristic age (tau) of a MSP\n",
        "typical_tau_msps_sec = \n",
        "\n",
        "\n",
        "print(\"Typical ages of an MSP:\")\n",
        "print(typical_tau_msps_sec, 'sec')\n",
        "\n",
        "## again note this calculation has been made in SECONDS. Can you convert the age to year and Myr?\n",
        "age_in_yrs = ## \n",
        "print(age_in_yrs, 'yrs')\n",
        "age_in_Myrs = ## \n",
        "print(age_in_Myrs, 'Myrs')"
      ],
      "execution_count": null,
      "outputs": []
    },
    {
      "cell_type": "code",
      "metadata": {
        "id": "v-O9xavBzH35"
      },
      "source": [
        "## Do MSPs or normal pulsars have larger typical characteristic ages?\n",
        "\n",
        "## Thinking back of how these populations are created, can you explain the difference in characteristice ages?\n",
        "\n",
        "## Do your estimated magnetic field sizes agree with the lines of constant magnetic field lines in the P-Pdot diagramme of the classnotes?"
      ],
      "execution_count": null,
      "outputs": []
    },
    {
      "cell_type": "markdown",
      "metadata": {
        "id": "YMaTWLy8zH35"
      },
      "source": [
        "## The derived magnetic fields"
      ]
    },
    {
      "cell_type": "markdown",
      "metadata": {
        "id": "bXP74gk2zH35"
      },
      "source": [
        "Recall from our lecture notes that using canonical values for the moment of interia (I = 1.1$\\times 10^{38}$ kg m$^2$) of a spinning neutron star, and its radius (R = 10 km), the minimum magnetic field strength can be expressed as, \n",
        "\n",
        "$$\\biggl( {B \\over {\\rm Gauss}}  \\biggr) \\gtrsim 3.2 \\times 10^{19} \\biggl( { P \\dot{P} \\over {\\rm s} } \\biggr)^{1/2}\\rlap{\\quad\n",
        "} \\tag{2}$$"
      ]
    },
    {
      "cell_type": "code",
      "metadata": {
        "id": "QwpW5EeizH36"
      },
      "source": [
        "## Using your same 'typical' P and Pdot values and eq. 2, compute the typical derived magnetic fields of normal and MSPs. \n",
        "\n",
        "typical_B_normalps = ## compute typical B-field for normal pulsar\n",
        "typical_B_msps = ## compute typical B-field for MSP\n",
        "\n",
        "\n",
        "print(\"Typical B-field of an MSP:\")\n",
        "print(typical_B_msps, 'Gauss')\n",
        "\n",
        "\n",
        "print(\"Typical B-field of a normal pulsar:\")\n",
        "print(typical_B_normalps, 'Gauss')"
      ],
      "execution_count": null,
      "outputs": []
    },
    {
      "cell_type": "code",
      "metadata": {
        "id": "RG0D37azzH36"
      },
      "source": [
        "## Which class of pulsar typically has lower magnetic fields? Do you know why this is? (This was not discussed in class, you will have to do your own research!)\n",
        "\n",
        "## Do your estimated magnetic field sizes agree with the lines of constant magnetic field lines in the P-Pdot diagramme of the classnotes?\n",
        "\n"
      ],
      "execution_count": null,
      "outputs": []
    },
    {
      "cell_type": "markdown",
      "metadata": {
        "id": "HBvhCm7KFliQ"
      },
      "source": [
        "## Lines of constant characteristic age and magnetic fields"
      ]
    },
    {
      "cell_type": "code",
      "metadata": {
        "id": "xG-LQf5_F1_v"
      },
      "source": [
        "## As an added exercise you can add lines of constant characteristic ages and magnetic fields to your P-Pdot plot. \n",
        "## The way do do this would be to select a range of period values in log-space, e.g.:\n",
        "\n",
        "# pvalues=np.logspace(-3, 1, num=20)\n",
        "\n",
        "## and then to compute the associated Pdot values using this P value range and a list of chosen constant characterisic ages values,\n",
        "## e.g taus=[1e5,1e6,1e7,1e8]. \n",
        "## The aim in other words is to produce a list of P-Pdot pairs associated with a constant tau value. And to do so for a couple of tau values (as many as you want lines for).\n",
        "## You can then plot these P, P-dot pairs on the P-Pdot diagramme. \n",
        "\n",
        "## The set-up would be similar for a range of constant magnetic field values"
      ],
      "execution_count": null,
      "outputs": []
    },
    {
      "cell_type": "markdown",
      "metadata": {
        "id": "1hTkm-wfzH36"
      },
      "source": [
        "## MeerKAT's sensitivity"
      ]
    },
    {
      "cell_type": "markdown",
      "metadata": {
        "id": "-MNqjMzOoeaJ"
      },
      "source": [
        "### What can MeerKAT see?"
      ]
    },
    {
      "cell_type": "code",
      "metadata": {
        "id": "XuFmpPIyzH36"
      },
      "source": [
        "## Now let us have a look at what MeerKAT can see.\n",
        "## The MeerKAT telescope can not observe all sources, but only those that crosses its horizon. \n",
        "## It can see pulsars that have a declination < + 44 degrees. In other words not the very Northern ones.\n",
        "\n",
        "## Let's filter for that"
      ],
      "execution_count": null,
      "outputs": []
    },
    {
      "cell_type": "code",
      "metadata": {
        "id": "f2i8Aa3Dr2nC"
      },
      "source": [
        "df"
      ],
      "execution_count": null,
      "outputs": []
    },
    {
      "cell_type": "code",
      "metadata": {
        "id": "ACzi1PyMzH37"
      },
      "source": [
        "mkt_pulsars = ## select all pulsars for which DECJD < 44 from the original dataframe (df)\n",
        "## How many such pulsars are there?\n",
        "print(\"The number of pulsars that will be above the horizon for MeerKAT is \", len(mkt_pulsars))"
      ],
      "execution_count": null,
      "outputs": []
    },
    {
      "cell_type": "markdown",
      "metadata": {
        "id": "ioZR9rkwzH37"
      },
      "source": [
        "From all the pulsars that MeerKAT can observe above the horizon we now want to set out to compute what the S/N (signal to noise ratio) of each pulsar would be, if we pointed MeerKAT at it for 120 sec (2 min). \n",
        "\n",
        "To do so we need to the relevant telescope specifications that describe its sensitivity."
      ]
    },
    {
      "cell_type": "markdown",
      "metadata": {
        "id": "Jo-AQ0pDzH37"
      },
      "source": [
        "### Observing parameters of MeerKAT at L-band frequencies\n",
        "\n",
        "To start out, the below cell captures the known MeerKAT parameters.\n",
        "There are some for you to fill out"
      ]
    },
    {
      "cell_type": "code",
      "metadata": {
        "id": "JZRdBp3vzH37"
      },
      "source": [
        "#For MeerKAT\n",
        "B =     ## Fill out!    # MeerKAT bandwidth at L-band frequencies in MHz\n",
        "Tsys = 18               # System temperature in K\n",
        "NAnt =    ## Fill out!  # The number of antennas in the MeerKAT array\n",
        "Npol = 2                # The number of polarisations of the antenna feed.\n",
        "                        # MeerKAT has a linear feed: which looks like a cross, so that it measures a horizontal and a vertical polarisation).\n",
        "eta = 0.76              # aperature effeciency\n",
        "d = 13.97               # dish diameter\n",
        "cfreq = 1284            # centre frequency of observation"
      ],
      "execution_count": null,
      "outputs": []
    },
    {
      "cell_type": "markdown",
      "metadata": {
        "id": "6Ct54W4YzH37"
      },
      "source": [
        "### Minimum detectable flux and S/N"
      ]
    },
    {
      "cell_type": "markdown",
      "metadata": {
        "id": "BAJ4F5nMzH37"
      },
      "source": [
        "Recall from our class lectures that given these observing parameters, the mean flux of a pulsar in Jy is given by  \n",
        "\n",
        "\\begin{equation}\n",
        "S_{\\nu} = \\frac{(S/ N) \\space T_{sys}}{G  N_{ant}  \\sqrt{n_{p}t_{int} B} }\\sqrt{\\dfrac{W}{P-W}} \\tag{3a}\n",
        "\\end{equation}\n",
        "\n",
        "(see Lorimer, D. R., & Kramer, M. 2005, Handbook of Pulsar Astronomy (Cambridge: Cambridge Univ. Press) equation A1.21)\n",
        "\n",
        "* $S_{\\nu}$ is the mean flux of the pulsar in Jy\n",
        "* $S/N$ is the signal to noise ratio of the folded pulse profile\n",
        "* $T_{sys}$ is the system temperature - this should include contributions from the sky and the receiver\n",
        "* $G$  is the antenna gain of one antenna in $\\rm{Jy.K}^{-1}$\n",
        "* $N_{ant}$ is the number of antennas\n",
        "* $n_{p}$ is the number of polarizations\n",
        "* $t_{int}$ is the integration time in s\n",
        "* $B$ is the bandwidth in MHz\n",
        "* $P$ is the pulsar period in seconds\n",
        "* $W$ is the pulse width in seconds\n",
        "\n",
        "This means that if a known pulsar of flux S is observed with $N_{ant}$-antennas for $t_{int}$ seconds then the observed S/N is: \n",
        "\n",
        "\n",
        "\n",
        "\\begin{equation}\n",
        "^S/_N =\\dfrac {S_{\\nu}}{T_{sys}}{G  N_{ant}  \\sqrt{n_{p}t_{int} B} }\\sqrt{\\dfrac{P-W}{W}} \\tag{3b}\n",
        "\\end{equation}"
      ]
    },
    {
      "cell_type": "markdown",
      "metadata": {
        "id": "F2LKJ4aczH38"
      },
      "source": [
        "### Antenna Gain\n",
        "\n",
        "To use the above equation we still need to compute the gain ($G$) of a MeerKAT dish.\n",
        "The antenna gain is given by\n",
        "\n",
        "\\begin{equation}\n",
        "  G = \\frac{\\eta A}{2 \\text{k}} \\times 10^{-26} \\approx \\frac{\\eta A}{2761}, \\quad \\text{[K / Jy]} \\tag{4}\n",
        "\\end{equation}\n",
        "\n",
        "where $\\eta$ is the efficiency of the dish (less than 1!),   \n",
        "$A$ is the dish area in square metres   \n",
        "and $\\text{k}$ is Boltzmann's constant."
      ]
    },
    {
      "cell_type": "code",
      "metadata": {
        "id": "ZJw8J1JCzH38"
      },
      "source": [
        "# Assuming the surface of the dish is round (a circle) compute the gain of one meerkat dish\n",
        "Area_dish ## add your computation here\n",
        "G = ##  Add your computation here for the gain of the dish (K/Jy).\n",
        "print(G, 'K/Jy')"
      ],
      "execution_count": null,
      "outputs": []
    },
    {
      "cell_type": "markdown",
      "metadata": {
        "id": "qJXD3YlIzH38"
      },
      "source": [
        "## Pulsar parameters for detectibility"
      ]
    },
    {
      "cell_type": "markdown",
      "metadata": {
        "id": "W7fV6o-JzH38"
      },
      "source": [
        "We have now taken care of all the *telescope parameters*. \n",
        "\n",
        "What remains, for us to be able to compute the S/N obtained by MeerKAT per (observable) pulsar (eq. 3b), are the *pulsar parameters*:\n",
        "\n",
        "* $S_{\\nu}$ the mean flux density of the pulsar in Jy (at the observing frequency of MeerKAT)\n",
        "* P the pulsar period in seconds\n",
        "* W the pulse width in seconds\n",
        "\n",
        "We know that the flux density of a pulsar changes with frequency,   \n",
        "so we will need to adapt our catalogue flux density values (S1400) at 1400 MHz to the MeerKAT centre frequency."
      ]
    },
    {
      "cell_type": "markdown",
      "metadata": {
        "id": "f2CvK5ngzH38"
      },
      "source": [
        "### Flux and Spectral Index"
      ]
    },
    {
      "cell_type": "markdown",
      "metadata": {
        "id": "D3ieFoxFzH38"
      },
      "source": [
        "The flux of a pulsar, $S_{\\nu}$ varies with observing frequency, $\\nu$ as\n",
        "\n",
        "\\begin{equation}\n",
        "S_{\\nu} \\propto \\nu^{\\alpha} \\tag{5}\n",
        "\\end{equation}\n",
        "\n",
        "Most pulsars have a spectral index, $\\alpha$ between -1.9 and -1.4.  \n",
        "The $\\alpha$ value of each pulsar is entered into our dataframe as 'SPINDX'. \n",
        "And the flux density value at 1400\\, MHz as 'S1400'.\n",
        "\n",
        "\n",
        "\n",
        "To compute **$S_\\nu$  at the MeerKAT observing frequency of 1283 MHz**, we need to transform the catalogue flux using the spectral index ($\\alpha$).\n",
        "\n",
        "\n",
        "The flux at an observing frequency, $\\nu$ can be calculated from the flux at 1400 MHz, $S_{1400}$,  \n",
        "and the spectral index, $\\alpha$.\n",
        "\n",
        "\\begin{equation}\n",
        "S_{\\nu} = S_{1400} \\times \\left( \\dfrac{\\nu}{1400} \\right) ^{\\alpha} \\tag{6}\n",
        "\\end{equation}"
      ]
    },
    {
      "cell_type": "markdown",
      "metadata": {
        "id": "zvT_0vzozH39"
      },
      "source": [
        "####Spectral index ($\\alpha$) values\n",
        "Let's first have a look at the SPINDX or alpha values of the catalogue (or dataframe, df):"
      ]
    },
    {
      "cell_type": "code",
      "metadata": {
        "id": "HtfqN8xPzH39"
      },
      "source": [
        "df.SPINDX"
      ],
      "execution_count": null,
      "outputs": []
    },
    {
      "cell_type": "markdown",
      "metadata": {
        "id": "7F-7ThsEzH39"
      },
      "source": [
        "Clearly some of them are *NaN (not a number)* values.   \n",
        "These are instances where the spectral index has not been measured well, or not yet added to the pulsar catalogue.\n",
        "\n",
        "Plot the distribution of spectral index (alpha) values, to get a feel for their values (the plotting tool will ignore the NaN values)."
      ]
    },
    {
      "cell_type": "code",
      "metadata": {
        "id": "iGFoPBcdzH39"
      },
      "source": [
        "plt.title(r\"Distribution in spectral index ($\\alpha$)\")\n",
        "plt.hist(df.SPINDX,bins=20)\n",
        "\n",
        "## Let's add vertical line value corresponding to the median value of the spectral index alpha too\n",
        "plt.axvline(df.SPINDX.median(),color='r', label=r'Median value of $\\alpha$')\n",
        "plt.legend(fontsize=12)"
      ],
      "execution_count": null,
      "outputs": []
    },
    {
      "cell_type": "code",
      "metadata": {
        "id": "QKWscvF5zH39"
      },
      "source": [
        "median_alpha = df['SPINDX'].median()\n",
        "print(\"The median spectral index value is \",median_alpha)"
      ],
      "execution_count": null,
      "outputs": []
    },
    {
      "cell_type": "markdown",
      "metadata": {
        "id": "ydvl40cDzH3-"
      },
      "source": [
        "For pulsars that we can observe with MeerKAT (contained in `mkt_pulsars`) where the SPINX value is not defined **(NaN)**,   \n",
        "we will **replace it with the population median value of $\\alpha$.**\n",
        "\n",
        "Let's do so using the `fillna( )` function in `pandas`. \n",
        "\n",
        "This fills NaNs with an alternative value you provide."
      ]
    },
    {
      "cell_type": "code",
      "metadata": {
        "id": "pr1CWjK5zH3-"
      },
      "source": [
        "mkt_pulsars = mkt_pulsars.fillna(value={\"SPINDX\": median_alpha})"
      ],
      "execution_count": null,
      "outputs": []
    },
    {
      "cell_type": "code",
      "metadata": {
        "id": "hh2nTDsNzH3-"
      },
      "source": [
        "mkt_pulsars ## Now all the NaN's have been replaced with the median_alpha value"
      ],
      "execution_count": null,
      "outputs": []
    },
    {
      "cell_type": "code",
      "metadata": {
        "id": "ZQSkK8NSzH3-"
      },
      "source": [
        "# Using eq. 6 now compute the flux values at the MeerKAT centre frequeny (cfreq) using the spectral index for each pulsar in mkt_pulsars\n",
        "\n",
        "S_cfreq = ## add your computation here"
      ],
      "execution_count": null,
      "outputs": []
    },
    {
      "cell_type": "markdown",
      "metadata": {
        "id": "tPgTJVGXzH3-"
      },
      "source": [
        "## Find the expected S/N for each pulsar observable by MKT"
      ]
    },
    {
      "cell_type": "markdown",
      "metadata": {
        "id": "vHZbDzcdzH3-"
      },
      "source": [
        "Now that we have taken care of all the *telescope and pulsar parameters*, we can compute the expected S/N for each pulsar observable by MKT after 2 min of observing using eq. 3b."
      ]
    },
    {
      "cell_type": "code",
      "metadata": {
        "id": "jO4fGdnGzH3-"
      },
      "source": [
        "# Use an integration time of 120s = 2min\n",
        "tint=120\n",
        "\n",
        "## While the width (W50) of pulsar signals also change with observing frequency, the change is relatively small. \n",
        "## Here we will assume the width at the catalogue frequency 1400 MHz as in 'W50' is a good approximation \n",
        "## for the width of the pulsar signal at the MKT observing frequency at 1283 MHz\n",
        "\n",
        "## remember that the W50 width in the catalogue is given in milliseconds!\n",
        "\n",
        "widths = ### \n",
        "\n",
        "SNR=##compute the SNR values here"
      ],
      "execution_count": null,
      "outputs": []
    },
    {
      "cell_type": "markdown",
      "metadata": {
        "id": "-ybTmm_MzH3_"
      },
      "source": [
        "### Designing a pulsar timing survey\n",
        "\n",
        "To do pulsar timing you require high S/N pulsar profiles to be able to obtain accurate time of arrivals (TOA) measurements.\n",
        "\n",
        "In fact as a rule of thumb the uncertainty in an arrival time measurement scales as,\n",
        "\n",
        "\\begin{equation}\n",
        "\\delta_{TOA} = \\dfrac{W}{^S/_N}\n",
        "\\end{equation}\n",
        "\n",
        "So for a millisecond pulsar with a width of 0.5 ms, to get the TOA uncertainly down to 5 microseconds requires a detection of S/N = 100. \n",
        "\n",
        "For our survey **let's require that the S/N of the MeerKAT detection after 2 min must be 100**, and see how many such pulsars are available for the survey. "
      ]
    },
    {
      "cell_type": "markdown",
      "metadata": {
        "id": "_k_yfLb6zH3_"
      },
      "source": [
        "### How many known pulsars are detectable with S/N > 100 after 2 min using MeerKAT."
      ]
    },
    {
      "cell_type": "code",
      "metadata": {
        "id": "oHSmXP40zH3_"
      },
      "source": [
        "# The pulsar is observable if SNR > SNmin\n",
        "SNmin=100\n",
        "high_snr_MKT_pulsars = mkt_pulsars[SNR>=SNmin]## select the pulsars in mkt_pulsars where SNR >= SNmin\n",
        "the_rest_MKT_pulsars = ## select the pulsars in mkt_pulsars where SNR < SNmin"
      ],
      "execution_count": null,
      "outputs": []
    },
    {
      "cell_type": "code",
      "metadata": {
        "id": "3Lh0nBl9uxOz"
      },
      "source": [
        "## We can have a look at the first 5 entries again, to remind ourselves that high_snr_MKT_pulsars is a dataframe.\n",
        "## It is a subset of mkt_pulsars.\n",
        "high_snr_MKT_pulsars.head()"
      ],
      "execution_count": null,
      "outputs": []
    },
    {
      "cell_type": "code",
      "metadata": {
        "id": "GA7KvyR_vD43"
      },
      "source": [
        "## Similarly for the rest\n",
        "the_rest_MKT_pulsars.head()"
      ],
      "execution_count": null,
      "outputs": []
    },
    {
      "cell_type": "code",
      "metadata": {
        "id": "dIyCPeJNzH3_"
      },
      "source": [
        "## How many pulsars will you observe with S/N>100 after 2min using MeerKAT?\n",
        "print(\"Number of high S/N pulsars\", len(high_snr_MKT_pulsars))\n",
        "print(\"Number of lower S/N pulsars\", len(the_rest_MKT_pulsars))\n",
        "\n",
        "## What fraction of pulsars visible to MKT have S/N > 100 in just 2min?\n",
        "print(\"%.1f perc of pulsars visible to MKT have and S/N > %d in just %d seconds\" %((100*len(high_snr_MKT_pulsars)/len(mkt_pulsars)),SNmin,tint))"
      ],
      "execution_count": null,
      "outputs": []
    },
    {
      "cell_type": "markdown",
      "metadata": {
        "id": "XoMtK71CzH3_"
      },
      "source": [
        "### What a powerful telescope!\n",
        "\n",
        "By observing for just 2min, ~ 70\\% of pulsars that are observable to MeerKAT are detected with S/N > 100!"
      ]
    },
    {
      "cell_type": "code",
      "metadata": {
        "id": "YLpXEOYdzH3_"
      },
      "source": [
        "#Set up a log-log plot for P vs Pdot\n",
        "figure=plt.figure(figsize=(15,10))\n",
        "plt.ylabel(\"Pdot\")\n",
        "plt.xlabel(\"Period (s)\")\n",
        "plt.yscale('log')\n",
        "plt.xscale('log')\n",
        "\n",
        "# Plot P and P-dot for the high_snr_pulsars and for the_rest_pulsars\n",
        "plt.plot(## add data here (P and P dot of the low SNR pulsars),'r*', markersize=12, label='Lower SNR pulsars with MKT',alpha=0.3)\n",
        "plt.plot(## add data here (P and P dot of the high SNR pulsars),'g*', markersize=12, label='High SNR with MKT',alpha=0.8)\n",
        "plt.legend()"
      ],
      "execution_count": null,
      "outputs": []
    },
    {
      "cell_type": "markdown",
      "metadata": {
        "id": "hA7IEHvizH4A"
      },
      "source": [
        "## Fraction of pulsars observable with observing time"
      ]
    },
    {
      "cell_type": "markdown",
      "metadata": {
        "id": "zxSWwOCkpL_8"
      },
      "source": [
        "Set up a figure that shows the how the fraction of pulsars observable with S/N>100 changes across an hour using MeetKAT"
      ]
    },
    {
      "cell_type": "code",
      "metadata": {
        "id": "tyABbcoEzH4A"
      },
      "source": [
        "npulse =len(mkt_pulsars)\n",
        "print(npulse)\n",
        "\n",
        "figure=plt.figure(figsize=(10,8))\n",
        "plt.title(\"Fraction of pulsars observable as a function of observing time\")\n",
        "#plt.ylabel(##Add label)\n",
        "#plt.xlabel(## Add label)\n",
        "\n",
        "#set up an array of integration times that run from t = 10s up to an hour (t=3600s)\n",
        "Tvals = ### \n",
        "\n",
        "ObsFraction=[]\n",
        "\n",
        "for ti in Tvals:\n",
        "    \n",
        "    # calculate the SNR each pulsar in mkt_pulsars assuming an integration time of ti\n",
        "    SNR = ###\n",
        "\n",
        "    # determine the subset of these pulsars with SNR greater than SNmin after time ti\n",
        "    obs_i = ## \n",
        "\n",
        "    # calculate fraction of pulsars that are observable after time ti and append to array ObsFraction\n",
        "\n",
        "    ObsFraction.append(##fraction of observable pulsars)\n",
        "        \n",
        "plt.plot(Tvals,ObsFraction,'bo-')\n",
        "plt.plot(Tvals,0.5+Tvals**0.6/(3590**0.5),'g--')"
      ],
      "execution_count": null,
      "outputs": []
    },
    {
      "cell_type": "code",
      "metadata": {
        "id": "p5p1X-gSzku7"
      },
      "source": [
        "print(f'After an hour using MeerKAT {100*ObsFraction[-1]:.2f} percent of all observables pulsars are expected to be detected with S/N>100')"
      ],
      "execution_count": null,
      "outputs": []
    },
    {
      "cell_type": "markdown",
      "metadata": {
        "id": "LYGn6CRnwBu3"
      },
      "source": [
        "# The End"
      ]
    }
  ]
}